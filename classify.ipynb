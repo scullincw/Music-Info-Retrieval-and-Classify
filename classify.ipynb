{
 "cells": [
  {
   "cell_type": "code",
   "execution_count": null,
   "metadata": {},
   "outputs": [],
   "source": [
    "!python --version"
   ]
  },
  {
   "cell_type": "markdown",
   "metadata": {},
   "source": [
    "## 加载数据到内存"
   ]
  },
  {
   "cell_type": "code",
   "execution_count": 18,
   "metadata": {},
   "outputs": [
    {
     "output_type": "stream",
     "name": "stdout",
     "text": "{'blues': 0, 'classical': 1, 'country': 2, 'disco': 3, 'hiphop': 4, 'jazz': 5, 'metal': 6, 'pop': 7, 'reggae': 8, 'rock': 9}\nblues\nclassical\ncountry\ndisco\nhiphop\njazz\nmetal\npop\nreggae\nrock\n"
    }
   ],
   "source": [
    "import librosa\n",
    "import numpy as np\n",
    "import os\n",
    "genres = 'blues classical country disco hiphop jazz metal pop reggae rock'.split()\n",
    "data_set = []\n",
    "label_set = []\n",
    "label2id = {genre:i for i,genre in enumerate(genres)}\n",
    "id2label = {i:genre for i,genre in enumerate(genres)}\n",
    "print(label2id)\n",
    "\n",
    "hop_length = 512\n",
    "for g in genres:\n",
    "    print(g)\n",
    "    for filename in os.listdir(f'../dataset/genres/{g}/'):\n",
    "        songname = f'../dataset/genres/{g}/{filename}'\n",
    "        y, sr = librosa.load(songname, mono=True, duration=30)\n",
    "        chroma_stft = librosa.feature.chroma_stft(y=y, sr=sr)\n",
    "        # y换成 s 即频谱图会更准确\n",
    "        S, phase = librosa.magphase(librosa.stft(y))\n",
    "        rmse = librosa.feature.rms(S=S)\n",
    "\n",
    "        spec_cent = librosa.feature.spectral_centroid(y=y, sr=sr)\n",
    "        spec_bw = librosa.feature.spectral_bandwidth(y=y, sr=sr)\n",
    "        rolloff = librosa.feature.spectral_rolloff(y=y, sr=sr)\n",
    "        zcr = librosa.feature.zero_crossing_rate(y)\n",
    "        mfcc = librosa.feature.mfcc(y=y, sr=sr)\n",
    "\n",
    "        # 计算节奏信息\n",
    "        # Compute local onset autocorrelation\n",
    "        oenv = librosa.onset.onset_strength(y=y, sr=sr, hop_length=hop_length)\n",
    "        tempogram = librosa.feature.tempogram(onset_envelope=oenv, sr=sr,\n",
    "                                       hop_length=hop_length)\n",
    "        # Compute global onset autocorrelation\n",
    "        ac_global = librosa.autocorrelate(oenv, max_size=tempogram.shape[0])\n",
    "        ac_global = librosa.util.normalize(ac_global)\n",
    "\n",
    "        to_append = f'{np.mean(chroma_stft)} {np.mean(rmse)} {np.mean(spec_cent)} {np.mean(spec_bw)} {np.mean(rolloff)} {np.mean(zcr)} {np.mean(ac_global)}'    \n",
    "        for e in mfcc:\n",
    "            to_append += f' {np.mean(e)}'\n",
    "        data_set.append([float(i) for i in to_append.split(\" \")])\n",
    "        label_set.append(label2id[g])"
   ]
  },
  {
   "cell_type": "markdown",
   "metadata": {},
   "source": [
    "### 手动打乱数据集\n",
    "\n",
    "通过`get_state()`保存状态，`set_state()`重新载入状态，可以使得两个数组在保证对应关系不变的情况下，完成随机打乱。"
   ]
  },
  {
   "cell_type": "code",
   "execution_count": 19,
   "metadata": {},
   "outputs": [],
   "source": [
    "state = np.random.get_state()\n",
    "np.random.shuffle(data_set)\n",
    "np.random.set_state(state)\n",
    "np.random.shuffle(label_set)"
   ]
  },
  {
   "cell_type": "markdown",
   "metadata": {},
   "source": [
    "## 创建数据集"
   ]
  },
  {
   "cell_type": "code",
   "execution_count": 20,
   "metadata": {},
   "outputs": [],
   "source": [
    "from sklearn.preprocessing import StandardScaler\n",
    "from keras.utils import np_utils\n",
    "scaler = StandardScaler()\n",
    "X = scaler.fit_transform(np.array(data_set, dtype = float))\n",
    "y = np_utils.to_categorical(np.array(label_set))"
   ]
  },
  {
   "cell_type": "code",
   "execution_count": 21,
   "metadata": {},
   "outputs": [
    {
     "output_type": "stream",
     "name": "stdout",
     "text": "X.shape:  (1000, 27)  Y.shape: (1000, 10)\n"
    }
   ],
   "source": [
    "print(\"X.shape: \", X.shape, \" Y.shape:\", y.shape)"
   ]
  },
  {
   "cell_type": "markdown",
   "metadata": {},
   "source": [
    "### 将测试集和训练集分隔"
   ]
  },
  {
   "cell_type": "code",
   "execution_count": 22,
   "metadata": {},
   "outputs": [],
   "source": [
    "from sklearn.model_selection import train_test_split\n",
    "X_train, X_test, y_train, y_test = train_test_split(X, y, test_size=0.2)"
   ]
  },
  {
   "cell_type": "markdown",
   "metadata": {},
   "source": [
    "## 创建模型"
   ]
  },
  {
   "cell_type": "code",
   "execution_count": 28,
   "metadata": {},
   "outputs": [],
   "source": [
    "from keras import models\n",
    "from keras.layers import Dense, Dropout\n",
    "from keras import regularizers\n",
    "def create_model():\n",
    "    model = models.Sequential()\n",
    "    model.add(Dense(256, activation='relu', input_shape=(X_train.shape[1],), kernel_regularizer=regularizers.l2(0.003)))\n",
    "    model.add(Dense(128, activation='relu', kernel_regularizer=regularizers.l2(0.003)))\n",
    "    model.add(Dense(64, activation='relu', kernel_regularizer=regularizers.l2(0.003)))\n",
    "    model.add(Dropout(0.5))\n",
    "    model.add(Dense(10, activation='softmax', kernel_regularizer=regularizers.l2(0.003)))\n",
    "    return model\n",
    "model = create_model()"
   ]
  },
  {
   "cell_type": "markdown",
   "metadata": {},
   "source": [
    "这里创建了一个包含三个隐藏层的神经网络，最后一层输出的是分类层，因为是10类，所以最后一层是10个单元。（这里增加了一层Dropout减少数据过拟合）"
   ]
  },
  {
   "cell_type": "markdown",
   "metadata": {},
   "source": [
    "## 编译模型\n",
    "\n",
    "这里是一个分类问题，所以使用类别交叉熵函数`categorical_crossentropy`，然后优化器选择`Adam`，评价指标选择正确率。"
   ]
  },
  {
   "cell_type": "code",
   "execution_count": 29,
   "metadata": {},
   "outputs": [],
   "source": [
    "model.compile(optimizer='adam',\n",
    "              loss='categorical_crossentropy',\n",
    "              metrics=['accuracy'])"
   ]
  },
  {
   "cell_type": "markdown",
   "metadata": {},
   "source": [
    "## 训练与评估\n",
    "\n",
    "接下来使用`fit`方法进行训练，训练50轮。"
   ]
  },
  {
   "cell_type": "code",
   "execution_count": 30,
   "metadata": {},
   "outputs": [
    {
     "output_type": "stream",
     "name": "stdout",
     "text": "Epoch 1/70\n800/800 [==============================] - 0s 402us/step - loss: 3.1509 - accuracy: 0.1750\nEpoch 2/70\n800/800 [==============================] - 0s 67us/step - loss: 2.9261 - accuracy: 0.3063\nEpoch 3/70\n800/800 [==============================] - 0s 74us/step - loss: 2.7785 - accuracy: 0.3375\nEpoch 4/70\n800/800 [==============================] - 0s 92us/step - loss: 2.6098 - accuracy: 0.3825\nEpoch 5/70\n800/800 [==============================] - 0s 116us/step - loss: 2.4828 - accuracy: 0.4250\nEpoch 6/70\n800/800 [==============================] - 0s 166us/step - loss: 2.3575 - accuracy: 0.4875\nEpoch 7/70\n800/800 [==============================] - 0s 113us/step - loss: 2.2921 - accuracy: 0.4825\nEpoch 8/70\n800/800 [==============================] - 0s 66us/step - loss: 2.2206 - accuracy: 0.5238\nEpoch 9/70\n800/800 [==============================] - 0s 72us/step - loss: 2.1418 - accuracy: 0.5350\nEpoch 10/70\n800/800 [==============================] - 0s 138us/step - loss: 2.0597 - accuracy: 0.5700\nEpoch 11/70\n800/800 [==============================] - 0s 109us/step - loss: 2.0213 - accuracy: 0.5700\nEpoch 12/70\n800/800 [==============================] - 0s 61us/step - loss: 1.9795 - accuracy: 0.5825\nEpoch 13/70\n800/800 [==============================] - 0s 112us/step - loss: 1.9152 - accuracy: 0.6062\nEpoch 14/70\n800/800 [==============================] - 0s 75us/step - loss: 1.8644 - accuracy: 0.6175\nEpoch 15/70\n800/800 [==============================] - 0s 88us/step - loss: 1.8424 - accuracy: 0.6175\nEpoch 16/70\n800/800 [==============================] - 0s 97us/step - loss: 1.8064 - accuracy: 0.6237\nEpoch 17/70\n800/800 [==============================] - 0s 72us/step - loss: 1.7585 - accuracy: 0.6775\nEpoch 18/70\n800/800 [==============================] - 0s 74us/step - loss: 1.7306 - accuracy: 0.6513\nEpoch 19/70\n800/800 [==============================] - 0s 72us/step - loss: 1.6773 - accuracy: 0.6700\nEpoch 20/70\n800/800 [==============================] - 0s 60us/step - loss: 1.6605 - accuracy: 0.6825\nEpoch 21/70\n800/800 [==============================] - 0s 63us/step - loss: 1.6618 - accuracy: 0.6650\nEpoch 22/70\n800/800 [==============================] - 0s 78us/step - loss: 1.5888 - accuracy: 0.6888\nEpoch 23/70\n800/800 [==============================] - 0s 89us/step - loss: 1.5569 - accuracy: 0.7113\nEpoch 24/70\n800/800 [==============================] - 0s 119us/step - loss: 1.5649 - accuracy: 0.6913\nEpoch 25/70\n800/800 [==============================] - 0s 88us/step - loss: 1.5361 - accuracy: 0.7100\nEpoch 26/70\n800/800 [==============================] - 0s 138us/step - loss: 1.5351 - accuracy: 0.7150\nEpoch 27/70\n800/800 [==============================] - 0s 118us/step - loss: 1.4851 - accuracy: 0.7262\nEpoch 28/70\n800/800 [==============================] - 0s 89us/step - loss: 1.4495 - accuracy: 0.7375\nEpoch 29/70\n800/800 [==============================] - 0s 88us/step - loss: 1.4452 - accuracy: 0.7350\nEpoch 30/70\n800/800 [==============================] - 0s 83us/step - loss: 1.3949 - accuracy: 0.7475\nEpoch 31/70\n800/800 [==============================] - 0s 58us/step - loss: 1.4218 - accuracy: 0.7225\nEpoch 32/70\n800/800 [==============================] - 0s 78us/step - loss: 1.3855 - accuracy: 0.7462\nEpoch 33/70\n800/800 [==============================] - 0s 77us/step - loss: 1.3711 - accuracy: 0.7538\nEpoch 34/70\n800/800 [==============================] - 0s 99us/step - loss: 1.3857 - accuracy: 0.7462\nEpoch 35/70\n800/800 [==============================] - 0s 64us/step - loss: 1.4017 - accuracy: 0.7312\nEpoch 36/70\n800/800 [==============================] - 0s 97us/step - loss: 1.3481 - accuracy: 0.7688\nEpoch 37/70\n800/800 [==============================] - 0s 103us/step - loss: 1.2993 - accuracy: 0.7862\nEpoch 38/70\n800/800 [==============================] - 0s 91us/step - loss: 1.3175 - accuracy: 0.7837\nEpoch 39/70\n800/800 [==============================] - 0s 61us/step - loss: 1.2873 - accuracy: 0.7812\nEpoch 40/70\n800/800 [==============================] - 0s 85us/step - loss: 1.2922 - accuracy: 0.7850\nEpoch 41/70\n800/800 [==============================] - 0s 74us/step - loss: 1.2561 - accuracy: 0.8000\nEpoch 42/70\n800/800 [==============================] - 0s 72us/step - loss: 1.2668 - accuracy: 0.7900\nEpoch 43/70\n800/800 [==============================] - 0s 69us/step - loss: 1.2366 - accuracy: 0.8087\nEpoch 44/70\n800/800 [==============================] - 0s 66us/step - loss: 1.2317 - accuracy: 0.7950\nEpoch 45/70\n800/800 [==============================] - 0s 97us/step - loss: 1.2054 - accuracy: 0.8050\nEpoch 46/70\n800/800 [==============================] - 0s 111us/step - loss: 1.1888 - accuracy: 0.7950\nEpoch 47/70\n800/800 [==============================] - 0s 79us/step - loss: 1.1934 - accuracy: 0.8012\nEpoch 48/70\n800/800 [==============================] - 0s 84us/step - loss: 1.1971 - accuracy: 0.8062\nEpoch 49/70\n800/800 [==============================] - 0s 75us/step - loss: 1.1531 - accuracy: 0.8413\nEpoch 50/70\n800/800 [==============================] - 0s 66us/step - loss: 1.1567 - accuracy: 0.8150\nEpoch 51/70\n800/800 [==============================] - 0s 81us/step - loss: 1.1432 - accuracy: 0.8275\nEpoch 52/70\n800/800 [==============================] - 0s 71us/step - loss: 1.1225 - accuracy: 0.8225\nEpoch 53/70\n800/800 [==============================] - 0s 61us/step - loss: 1.1270 - accuracy: 0.8388\nEpoch 54/70\n800/800 [==============================] - 0s 77us/step - loss: 1.1690 - accuracy: 0.8138\nEpoch 55/70\n800/800 [==============================] - 0s 97us/step - loss: 1.1241 - accuracy: 0.8375\nEpoch 56/70\n800/800 [==============================] - 0s 61us/step - loss: 1.0963 - accuracy: 0.8375\nEpoch 57/70\n800/800 [==============================] - 0s 64us/step - loss: 1.1144 - accuracy: 0.8238\nEpoch 58/70\n800/800 [==============================] - 0s 98us/step - loss: 1.0783 - accuracy: 0.8512\nEpoch 59/70\n800/800 [==============================] - 0s 64us/step - loss: 1.0669 - accuracy: 0.8525\nEpoch 60/70\n800/800 [==============================] - 0s 69us/step - loss: 1.0749 - accuracy: 0.8587\nEpoch 61/70\n800/800 [==============================] - 0s 65us/step - loss: 1.0762 - accuracy: 0.8388\nEpoch 62/70\n800/800 [==============================] - 0s 78us/step - loss: 1.0728 - accuracy: 0.8388\nEpoch 63/70\n800/800 [==============================] - 0s 53us/step - loss: 1.0580 - accuracy: 0.8612\nEpoch 64/70\n800/800 [==============================] - 0s 66us/step - loss: 1.0388 - accuracy: 0.8600\nEpoch 65/70\n800/800 [==============================] - 0s 75us/step - loss: 1.0127 - accuracy: 0.8662\nEpoch 66/70\n800/800 [==============================] - 0s 73us/step - loss: 1.0048 - accuracy: 0.8913\nEpoch 67/70\n800/800 [==============================] - 0s 63us/step - loss: 1.0177 - accuracy: 0.8662\nEpoch 68/70\n800/800 [==============================] - 0s 85us/step - loss: 1.0264 - accuracy: 0.8475\nEpoch 69/70\n800/800 [==============================] - 0s 65us/step - loss: 1.0059 - accuracy: 0.8650\nEpoch 70/70\n800/800 [==============================] - 0s 60us/step - loss: 0.9961 - accuracy: 0.8737\n"
    },
    {
     "output_type": "execute_result",
     "data": {
      "text/plain": "<keras.callbacks.callbacks.History at 0x7f2b64143b50>"
     },
     "metadata": {},
     "execution_count": 30
    }
   ],
   "source": [
    "model.fit(X_train, y_train, epochs=70, batch_size=128)"
   ]
  },
  {
   "cell_type": "markdown",
   "metadata": {},
   "source": [
    "使用`evaluate`方法进行评估。"
   ]
  },
  {
   "cell_type": "code",
   "execution_count": 31,
   "metadata": {},
   "outputs": [
    {
     "output_type": "stream",
     "name": "stdout",
     "text": "200/200 [==============================] - 0s 322us/step\ntest_acc:  0.7350000143051147\n"
    }
   ],
   "source": [
    "test_loss, test_acc = model.evaluate(X_test,y_test)\n",
    "print('test_acc: ',test_acc)"
   ]
  },
  {
   "cell_type": "code",
   "execution_count": null,
   "metadata": {},
   "outputs": [],
   "source": []
  }
 ],
 "metadata": {
  "language_info": {
   "codemirror_mode": {
    "name": "ipython",
    "version": 3
   },
   "file_extension": ".py",
   "mimetype": "text/x-python",
   "name": "python",
   "nbconvert_exporter": "python",
   "pygments_lexer": "ipython3",
   "version": "3.7.7-final"
  },
  "orig_nbformat": 2,
  "kernelspec": {
   "name": "python3",
   "display_name": "Python 3"
  }
 },
 "nbformat": 4,
 "nbformat_minor": 2
}