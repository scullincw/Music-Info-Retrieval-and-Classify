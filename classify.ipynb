{
 "cells": [
  {
   "cell_type": "code",
   "execution_count": null,
   "metadata": {},
   "outputs": [],
   "source": [
    "!python --version"
   ]
  },
  {
   "cell_type": "markdown",
   "metadata": {},
   "source": [
    "## 加载数据到内存"
   ]
  },
  {
   "cell_type": "code",
   "execution_count": 1,
   "metadata": {},
   "outputs": [
    {
     "output_type": "stream",
     "name": "stdout",
     "text": "{'blues': 0, 'classical': 1, 'country': 2, 'disco': 3, 'hiphop': 4, 'jazz': 5, 'metal': 6, 'pop': 7, 'reggae': 8, 'rock': 9}\nblues\nclassical\ncountry\ndisco\nhiphop\njazz\nmetal\npop\nreggae\nrock\n"
    }
   ],
   "source": [
    "import librosa\n",
    "import numpy as np\n",
    "import os\n",
    "genres = 'blues classical country disco hiphop jazz metal pop reggae rock'.split()\n",
    "data_set = []\n",
    "label_set = []\n",
    "label2id = {genre:i for i,genre in enumerate(genres)}\n",
    "id2label = {i:genre for i,genre in enumerate(genres)}\n",
    "print(label2id)\n",
    "\n",
    "hop_length = 512\n",
    "for g in genres:\n",
    "    print(g)\n",
    "    for filename in os.listdir(f'../dataset/genres/{g}/'):\n",
    "        songname = f'../dataset/genres/{g}/{filename}'\n",
    "        y, sr = librosa.load(songname, mono=True, duration=30)\n",
    "        chroma_stft = librosa.feature.chroma_stft(y=y, sr=sr)\n",
    "        # y换成 s 即频谱图会更准确\n",
    "        S, phase = librosa.magphase(librosa.stft(y))\n",
    "        rmse = librosa.feature.rms(S=S)\n",
    "\n",
    "        spec_cent = librosa.feature.spectral_centroid(y=y, sr=sr)\n",
    "        spec_bw = librosa.feature.spectral_bandwidth(y=y, sr=sr)\n",
    "        rolloff = librosa.feature.spectral_rolloff(y=y, sr=sr)\n",
    "        zcr = librosa.feature.zero_crossing_rate(y)\n",
    "        mfcc = librosa.feature.mfcc(y=y, sr=sr)\n",
    "\n",
    "        # 计算节奏信息\n",
    "        # Compute local onset autocorrelation\n",
    "        oenv = librosa.onset.onset_strength(y=y, sr=sr, hop_length=hop_length)\n",
    "        tempogram = librosa.feature.tempogram(onset_envelope=oenv, sr=sr,\n",
    "                                       hop_length=hop_length)\n",
    "        # Compute global onset autocorrelation\n",
    "        ac_global = librosa.autocorrelate(oenv, max_size=tempogram.shape[0])\n",
    "        ac_global = librosa.util.normalize(ac_global)\n",
    "\n",
    "        to_append = f'{np.mean(chroma_stft)} {np.mean(rmse)} {np.mean(spec_cent)} {np.mean(spec_bw)} {np.mean(rolloff)} {np.mean(zcr)} {np.mean(ac_global)}'    \n",
    "        for e in mfcc:\n",
    "            to_append += f' {np.mean(e)}'\n",
    "        data_set.append([float(i) for i in to_append.split(\" \")])\n",
    "        label_set.append(label2id[g])"
   ]
  },
  {
   "cell_type": "markdown",
   "metadata": {},
   "source": [
    "### 手动打乱数据集\n",
    "\n",
    "通过`get_state()`保存状态，`set_state()`重新载入状态，可以使得两个数组在保证对应关系不变的情况下，完成随机打乱。"
   ]
  },
  {
   "cell_type": "code",
   "execution_count": 2,
   "metadata": {},
   "outputs": [],
   "source": [
    "state = np.random.get_state()\n",
    "np.random.shuffle(data_set)\n",
    "np.random.set_state(state)\n",
    "np.random.shuffle(label_set)"
   ]
  },
  {
   "cell_type": "markdown",
   "metadata": {},
   "source": [
    "## 创建数据集"
   ]
  },
  {
   "cell_type": "code",
   "execution_count": 30,
   "metadata": {},
   "outputs": [],
   "source": [
    "from sklearn.preprocessing import StandardScaler\n",
    "from keras.utils import np_utils\n",
    "scaler = StandardScaler()\n",
    "X = scaler.fit_transform(np.array(data_set, dtype = float))\n",
    "y = np_utils.to_categorical(np.array(label_set))"
   ]
  },
  {
   "cell_type": "code",
   "execution_count": 31,
   "metadata": {},
   "outputs": [
    {
     "output_type": "stream",
     "name": "stdout",
     "text": "X.shape:  (1000, 27)  Y.shape: (1000, 10)\n"
    }
   ],
   "source": [
    "print(\"X.shape: \", X.shape, \" Y.shape:\", y.shape)"
   ]
  },
  {
   "cell_type": "markdown",
   "metadata": {},
   "source": [
    "### 将测试集和训练集分隔"
   ]
  },
  {
   "cell_type": "code",
   "execution_count": 32,
   "metadata": {},
   "outputs": [],
   "source": [
    "from sklearn.model_selection import train_test_split\n",
    "X_train, X_test, y_train, y_test = train_test_split(X, y, test_size=0.2)"
   ]
  },
  {
   "cell_type": "markdown",
   "metadata": {},
   "source": [
    "## 创建模型"
   ]
  },
  {
   "cell_type": "code",
   "execution_count": 41,
   "metadata": {},
   "outputs": [],
   "source": [
    "from keras import models\n",
    "from keras.layers import Dense, Dropout\n",
    "from keras import regularizers\n",
    "def create_model():\n",
    "    model = models.Sequential()\n",
    "    model.add(Dense(256, activation='relu', input_shape=(X_train.shape[1],), kernel_regularizer=regularizers.l2(0.003)))\n",
    "    model.add(Dense(128, activation='relu', kernel_regularizer=regularizers.l2(0.003)))\n",
    "    model.add(Dense(64, activation='relu', kernel_regularizer=regularizers.l2(0.003)))\n",
    "    model.add(Dropout(0.5))\n",
    "    model.add(Dense(10, activation='softmax'))\n",
    "    return model\n",
    "model = create_model()"
   ]
  },
  {
   "cell_type": "markdown",
   "metadata": {},
   "source": [
    "这里创建了一个包含三个隐藏层的神经网络，最后一层输出的是分类层，因为是10类，所以最后一层是10个单元。（这里增加了一层Dropout减少数据过拟合）"
   ]
  },
  {
   "cell_type": "markdown",
   "metadata": {},
   "source": [
    "## 编译模型\n",
    "\n",
    "这里是一个分类问题，所以使用类别交叉熵函数`categorical_crossentropy`，然后优化器选择`Adam`，评价指标选择正确率。"
   ]
  },
  {
   "cell_type": "code",
   "execution_count": 42,
   "metadata": {},
   "outputs": [],
   "source": [
    "from keras import optimizers\n",
    "adam = optimizers.Adam(lr=0.001,beta_1=0.9,beta_2=0.999,epsilon=1e-8)\n",
    "model.compile(optimizer=adam,\n",
    "              loss='categorical_crossentropy',\n",
    "              metrics=['accuracy'])"
   ]
  },
  {
   "cell_type": "markdown",
   "metadata": {},
   "source": [
    "## 训练与评估\n",
    "\n",
    "接下来使用`fit`方法进行训练，训练70轮。"
   ]
  },
  {
   "cell_type": "code",
   "execution_count": 43,
   "metadata": {},
   "outputs": [
    {
     "output_type": "stream",
     "name": "stdout",
     "text": "Epoch 1/70\n800/800 [==============================] - 0s 271us/step - loss: 3.1432 - accuracy: 0.1988\nEpoch 2/70\n800/800 [==============================] - 0s 51us/step - loss: 2.8786 - accuracy: 0.3088\nEpoch 3/70\n800/800 [==============================] - 0s 90us/step - loss: 2.7058 - accuracy: 0.3600\nEpoch 4/70\n800/800 [==============================] - 0s 78us/step - loss: 2.5601 - accuracy: 0.4175\nEpoch 5/70\n800/800 [==============================] - 0s 77us/step - loss: 2.4380 - accuracy: 0.4363\nEpoch 6/70\n800/800 [==============================] - 0s 61us/step - loss: 2.3400 - accuracy: 0.4638\nEpoch 7/70\n800/800 [==============================] - 0s 82us/step - loss: 2.2358 - accuracy: 0.4925\nEpoch 8/70\n800/800 [==============================] - 0s 83us/step - loss: 2.1235 - accuracy: 0.5225\nEpoch 9/70\n800/800 [==============================] - 0s 80us/step - loss: 2.0761 - accuracy: 0.5525\nEpoch 10/70\n800/800 [==============================] - 0s 68us/step - loss: 2.0257 - accuracy: 0.5525\nEpoch 11/70\n800/800 [==============================] - 0s 88us/step - loss: 1.9690 - accuracy: 0.5725\nEpoch 12/70\n800/800 [==============================] - 0s 93us/step - loss: 1.8969 - accuracy: 0.6000\nEpoch 13/70\n800/800 [==============================] - 0s 66us/step - loss: 1.8383 - accuracy: 0.6050\nEpoch 14/70\n800/800 [==============================] - 0s 112us/step - loss: 1.8028 - accuracy: 0.6150\nEpoch 15/70\n800/800 [==============================] - 0s 59us/step - loss: 1.7329 - accuracy: 0.6400\nEpoch 16/70\n800/800 [==============================] - 0s 60us/step - loss: 1.7160 - accuracy: 0.6425\nEpoch 17/70\n800/800 [==============================] - 0s 75us/step - loss: 1.6782 - accuracy: 0.6463\nEpoch 18/70\n800/800 [==============================] - 0s 71us/step - loss: 1.6823 - accuracy: 0.6363\nEpoch 19/70\n800/800 [==============================] - 0s 79us/step - loss: 1.5905 - accuracy: 0.6725\nEpoch 20/70\n800/800 [==============================] - 0s 62us/step - loss: 1.5662 - accuracy: 0.6888\nEpoch 21/70\n800/800 [==============================] - 0s 59us/step - loss: 1.5343 - accuracy: 0.7050\nEpoch 22/70\n800/800 [==============================] - 0s 65us/step - loss: 1.5379 - accuracy: 0.6775\nEpoch 23/70\n800/800 [==============================] - 0s 64us/step - loss: 1.4577 - accuracy: 0.7075\nEpoch 24/70\n800/800 [==============================] - 0s 64us/step - loss: 1.4483 - accuracy: 0.7375\nEpoch 25/70\n800/800 [==============================] - 0s 61us/step - loss: 1.4601 - accuracy: 0.7287\nEpoch 26/70\n800/800 [==============================] - 0s 66us/step - loss: 1.3800 - accuracy: 0.7337\nEpoch 27/70\n800/800 [==============================] - 0s 54us/step - loss: 1.4147 - accuracy: 0.7262\nEpoch 28/70\n800/800 [==============================] - 0s 59us/step - loss: 1.3527 - accuracy: 0.7563\nEpoch 29/70\n800/800 [==============================] - 0s 64us/step - loss: 1.3365 - accuracy: 0.7350\nEpoch 30/70\n800/800 [==============================] - 0s 53us/step - loss: 1.3254 - accuracy: 0.7538\nEpoch 31/70\n800/800 [==============================] - 0s 59us/step - loss: 1.3179 - accuracy: 0.7550\nEpoch 32/70\n800/800 [==============================] - 0s 88us/step - loss: 1.2821 - accuracy: 0.7625\nEpoch 33/70\n800/800 [==============================] - 0s 84us/step - loss: 1.2567 - accuracy: 0.7650\nEpoch 34/70\n800/800 [==============================] - 0s 109us/step - loss: 1.3019 - accuracy: 0.7500\nEpoch 35/70\n800/800 [==============================] - 0s 71us/step - loss: 1.2586 - accuracy: 0.7625\nEpoch 36/70\n800/800 [==============================] - 0s 89us/step - loss: 1.2253 - accuracy: 0.7750\nEpoch 37/70\n800/800 [==============================] - 0s 88us/step - loss: 1.2119 - accuracy: 0.7862\nEpoch 38/70\n800/800 [==============================] - 0s 75us/step - loss: 1.1967 - accuracy: 0.7862\nEpoch 39/70\n800/800 [==============================] - 0s 78us/step - loss: 1.1858 - accuracy: 0.7875\nEpoch 40/70\n800/800 [==============================] - 0s 83us/step - loss: 1.1538 - accuracy: 0.8025\nEpoch 41/70\n800/800 [==============================] - 0s 77us/step - loss: 1.1362 - accuracy: 0.8125\nEpoch 42/70\n800/800 [==============================] - 0s 81us/step - loss: 1.1659 - accuracy: 0.8025\nEpoch 43/70\n800/800 [==============================] - 0s 73us/step - loss: 1.1087 - accuracy: 0.8238\nEpoch 44/70\n800/800 [==============================] - 0s 58us/step - loss: 1.0919 - accuracy: 0.8112\nEpoch 45/70\n800/800 [==============================] - 0s 49us/step - loss: 1.1109 - accuracy: 0.8075\nEpoch 46/70\n800/800 [==============================] - 0s 57us/step - loss: 1.0721 - accuracy: 0.8450\nEpoch 47/70\n800/800 [==============================] - 0s 64us/step - loss: 1.0865 - accuracy: 0.8100\nEpoch 48/70\n800/800 [==============================] - 0s 114us/step - loss: 1.0666 - accuracy: 0.8238\nEpoch 49/70\n800/800 [==============================] - 0s 75us/step - loss: 1.0479 - accuracy: 0.8363\nEpoch 50/70\n800/800 [==============================] - 0s 72us/step - loss: 1.0259 - accuracy: 0.8462\nEpoch 51/70\n800/800 [==============================] - 0s 68us/step - loss: 1.0003 - accuracy: 0.8500\nEpoch 52/70\n800/800 [==============================] - 0s 51us/step - loss: 1.0523 - accuracy: 0.8225\nEpoch 53/70\n800/800 [==============================] - 0s 67us/step - loss: 1.0059 - accuracy: 0.8450\nEpoch 54/70\n800/800 [==============================] - 0s 75us/step - loss: 0.9958 - accuracy: 0.8462\nEpoch 55/70\n800/800 [==============================] - 0s 62us/step - loss: 0.9950 - accuracy: 0.8413\nEpoch 56/70\n800/800 [==============================] - 0s 58us/step - loss: 0.9768 - accuracy: 0.8550\nEpoch 57/70\n800/800 [==============================] - 0s 64us/step - loss: 0.9691 - accuracy: 0.8462\nEpoch 58/70\n800/800 [==============================] - 0s 57us/step - loss: 0.9505 - accuracy: 0.8550\nEpoch 59/70\n800/800 [==============================] - 0s 54us/step - loss: 0.9418 - accuracy: 0.8612\nEpoch 60/70\n800/800 [==============================] - 0s 71us/step - loss: 0.9533 - accuracy: 0.8750\nEpoch 61/70\n800/800 [==============================] - 0s 72us/step - loss: 0.9480 - accuracy: 0.8550\nEpoch 62/70\n800/800 [==============================] - 0s 71us/step - loss: 0.9371 - accuracy: 0.8712\nEpoch 63/70\n800/800 [==============================] - 0s 96us/step - loss: 0.9414 - accuracy: 0.8675\nEpoch 64/70\n800/800 [==============================] - 0s 54us/step - loss: 0.9031 - accuracy: 0.8587\nEpoch 65/70\n800/800 [==============================] - 0s 64us/step - loss: 0.9182 - accuracy: 0.8662\nEpoch 66/70\n800/800 [==============================] - 0s 60us/step - loss: 0.9083 - accuracy: 0.8825\nEpoch 67/70\n800/800 [==============================] - 0s 73us/step - loss: 0.8769 - accuracy: 0.8850\nEpoch 68/70\n800/800 [==============================] - 0s 55us/step - loss: 0.8736 - accuracy: 0.8788\nEpoch 69/70\n800/800 [==============================] - 0s 63us/step - loss: 0.8895 - accuracy: 0.8725\nEpoch 70/70\n800/800 [==============================] - 0s 52us/step - loss: 0.8700 - accuracy: 0.8900\n"
    },
    {
     "output_type": "execute_result",
     "data": {
      "text/plain": "<keras.callbacks.callbacks.History at 0x7f2634204350>"
     },
     "metadata": {},
     "execution_count": 43
    }
   ],
   "source": [
    "model.fit(X_train, y_train, epochs=70, batch_size=128)"
   ]
  },
  {
   "cell_type": "markdown",
   "metadata": {},
   "source": [
    "使用`evaluate`方法进行评估。"
   ]
  },
  {
   "cell_type": "code",
   "execution_count": 44,
   "metadata": {},
   "outputs": [
    {
     "output_type": "stream",
     "name": "stdout",
     "text": "200/200 [==============================] - 0s 279us/step\ntest_acc:  0.7250000238418579\n"
    }
   ],
   "source": [
    "test_loss, test_acc = model.evaluate(X_test,y_test)\n",
    "print('test_acc: ',test_acc)"
   ]
  },
  {
   "cell_type": "code",
   "execution_count": null,
   "metadata": {},
   "outputs": [],
   "source": []
  }
 ],
 "metadata": {
  "language_info": {
   "codemirror_mode": {
    "name": "ipython",
    "version": 3
   },
   "file_extension": ".py",
   "mimetype": "text/x-python",
   "name": "python",
   "nbconvert_exporter": "python",
   "pygments_lexer": "ipython3",
   "version": "3.7.7-final"
  },
  "orig_nbformat": 2,
  "kernelspec": {
   "name": "python3",
   "display_name": "Python 3"
  }
 },
 "nbformat": 4,
 "nbformat_minor": 2
}