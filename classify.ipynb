{
 "cells": [
  {
   "cell_type": "code",
   "execution_count": null,
   "metadata": {},
   "outputs": [],
   "source": [
    "!python --version"
   ]
  },
  {
   "cell_type": "markdown",
   "metadata": {},
   "source": [
    "## 加载数据到内存"
   ]
  },
  {
   "cell_type": "code",
   "execution_count": 1,
   "metadata": {},
   "outputs": [
    {
     "output_type": "stream",
     "name": "stdout",
     "text": "{'blues': 0, 'classical': 1, 'country': 2, 'disco': 3, 'hiphop': 4, 'jazz': 5, 'metal': 6, 'pop': 7, 'reggae': 8, 'rock': 9}\nblues\nclassical\ncountry\ndisco\nhiphop\njazz\nmetal\npop\nreggae\nrock\n"
    }
   ],
   "source": [
    "import librosa\n",
    "import numpy as np\n",
    "import os\n",
    "genres = 'blues classical country disco hiphop jazz metal pop reggae rock'.split()\n",
    "data_set = []\n",
    "label_set = []\n",
    "label2id = {genre:i for i,genre in enumerate(genres)}\n",
    "id2label = {i:genre for i,genre in enumerate(genres)}\n",
    "print(label2id)\n",
    "\n",
    "hop_length = 512\n",
    "for g in genres:\n",
    "    print(g)\n",
    "    for filename in os.listdir(f'../dataset/genres/{g}/'):\n",
    "        songname = f'../dataset/genres/{g}/{filename}'\n",
    "        y, sr = librosa.load(songname, mono=True, duration=30)\n",
    "        chroma_stft = librosa.feature.chroma_stft(y=y, sr=sr)\n",
    "        # y换成 s 即频谱图会更准确\n",
    "        S, phase = librosa.magphase(librosa.stft(y))\n",
    "        rmse = librosa.feature.rms(S=S)\n",
    "\n",
    "        spec_cent = librosa.feature.spectral_centroid(y=y, sr=sr)\n",
    "        spec_bw = librosa.feature.spectral_bandwidth(y=y, sr=sr)\n",
    "        rolloff = librosa.feature.spectral_rolloff(y=y, sr=sr)\n",
    "        zcr = librosa.feature.zero_crossing_rate(y)\n",
    "        mfcc = librosa.feature.mfcc(y=y, sr=sr)\n",
    "\n",
    "        # 计算节奏信息\n",
    "        # Compute local onset autocorrelation\n",
    "        oenv = librosa.onset.onset_strength(y=y, sr=sr, hop_length=hop_length)\n",
    "        tempogram = librosa.feature.tempogram(onset_envelope=oenv, sr=sr,\n",
    "                                       hop_length=hop_length)\n",
    "        # Compute global onset autocorrelation\n",
    "        ac_global = librosa.autocorrelate(oenv, max_size=tempogram.shape[0])\n",
    "        ac_global = librosa.util.normalize(ac_global)\n",
    "\n",
    "        to_append = f'{np.mean(chroma_stft)} {np.mean(rmse)} {np.mean(spec_cent)} {np.mean(spec_bw)} {np.mean(rolloff)} {np.mean(zcr)} {np.mean(ac_global)}'    \n",
    "        for e in mfcc:\n",
    "            to_append += f' {np.mean(e)}'\n",
    "        data_set.append([float(i) for i in to_append.split(\" \")])\n",
    "        label_set.append(label2id[g])"
   ]
  },
  {
   "cell_type": "markdown",
   "metadata": {},
   "source": [
    "### 手动打乱数据集\n",
    "\n",
    "通过`get_state()`保存状态，`set_state()`重新载入状态，可以使得两个数组在保证对应关系不变的情况下，完成随机打乱。"
   ]
  },
  {
   "cell_type": "code",
   "execution_count": 2,
   "metadata": {},
   "outputs": [],
   "source": [
    "state = np.random.get_state()\n",
    "np.random.shuffle(data_set)\n",
    "np.random.set_state(state)\n",
    "np.random.shuffle(label_set)"
   ]
  },
  {
   "cell_type": "markdown",
   "metadata": {},
   "source": [
    "## 创建数据集"
   ]
  },
  {
   "cell_type": "code",
   "execution_count": 30,
   "metadata": {},
   "outputs": [],
   "source": [
    "from sklearn.preprocessing import StandardScaler\n",
    "from keras.utils import np_utils\n",
    "scaler = StandardScaler()\n",
    "X = scaler.fit_transform(np.array(data_set, dtype = float))\n",
    "y = np_utils.to_categorical(np.array(label_set))"
   ]
  },
  {
   "cell_type": "code",
   "execution_count": 31,
   "metadata": {},
   "outputs": [
    {
     "output_type": "stream",
     "name": "stdout",
     "text": "X.shape:  (1000, 27)  Y.shape: (1000, 10)\n"
    }
   ],
   "source": [
    "print(\"X.shape: \", X.shape, \" Y.shape:\", y.shape)"
   ]
  },
  {
   "cell_type": "markdown",
   "metadata": {},
   "source": [
    "### 将测试集和训练集分隔"
   ]
  },
  {
   "cell_type": "code",
   "execution_count": 32,
   "metadata": {},
   "outputs": [],
   "source": [
    "from sklearn.model_selection import train_test_split\n",
    "X_train, X_test, y_train, y_test = train_test_split(X, y, test_size=0.2)"
   ]
  },
  {
   "cell_type": "markdown",
   "metadata": {},
   "source": [
    "## 创建模型"
   ]
  },
  {
   "cell_type": "code",
   "execution_count": 33,
   "metadata": {},
   "outputs": [],
   "source": [
    "from keras import models\n",
    "from keras.layers import Dense, Dropout\n",
    "from keras import regularizers\n",
    "def create_model():\n",
    "    model = models.Sequential()\n",
    "    model.add(Dense(256, activation='relu', input_shape=(X_train.shape[1],), kernel_regularizer=regularizers.l2(0.003)))\n",
    "    model.add(Dense(128, activation='relu', kernel_regularizer=regularizers.l2(0.003)))\n",
    "    model.add(Dense(64, activation='relu', kernel_regularizer=regularizers.l2(0.003)))\n",
    "    model.add(Dropout(0.5))\n",
    "    model.add(Dense(10, activation='softmax'))\n",
    "    return model\n",
    "model = create_model()"
   ]
  },
  {
   "cell_type": "markdown",
   "metadata": {},
   "source": [
    "这里创建了一个包含三个隐藏层的神经网络，最后一层输出的是分类层，因为是10类，所以最后一层是10个单元。（这里增加了一层Dropout减少数据过拟合）"
   ]
  },
  {
   "cell_type": "markdown",
   "metadata": {},
   "source": [
    "## 编译模型\n",
    "\n",
    "这里是一个分类问题，所以使用类别交叉熵函数`categorical_crossentropy`，然后优化器选择`Adam`，评价指标选择正确率。"
   ]
  },
  {
   "cell_type": "code",
   "execution_count": 34,
   "metadata": {},
   "outputs": [],
   "source": [
    "# from keras import optimizers\n",
    "# sgd = optimizers.SGD(lr=0.001, decay=1e-6)\n",
    "model.compile(optimizer='adam',\n",
    "              loss='categorical_crossentropy',\n",
    "              metrics=['accuracy'])"
   ]
  },
  {
   "cell_type": "markdown",
   "metadata": {},
   "source": [
    "## 训练与评估\n",
    "\n",
    "接下来使用`fit`方法进行训练，训练50轮。"
   ]
  },
  {
   "cell_type": "code",
   "execution_count": 35,
   "metadata": {},
   "outputs": [
    {
     "output_type": "stream",
     "name": "stdout",
     "text": "Epoch 1/50\n800/800 [==============================] - 0s 376us/step - loss: 3.1312 - accuracy: 0.1737\nEpoch 2/50\n800/800 [==============================] - 0s 63us/step - loss: 2.8554 - accuracy: 0.3137\nEpoch 3/50\n800/800 [==============================] - 0s 86us/step - loss: 2.6508 - accuracy: 0.3462\nEpoch 4/50\n800/800 [==============================] - 0s 84us/step - loss: 2.5348 - accuracy: 0.3738\nEpoch 5/50\n800/800 [==============================] - 0s 62us/step - loss: 2.4107 - accuracy: 0.4225\nEpoch 6/50\n800/800 [==============================] - 0s 80us/step - loss: 2.3164 - accuracy: 0.4850\nEpoch 7/50\n800/800 [==============================] - 0s 109us/step - loss: 2.2227 - accuracy: 0.5000\nEpoch 8/50\n800/800 [==============================] - 0s 74us/step - loss: 2.1420 - accuracy: 0.5175\nEpoch 9/50\n800/800 [==============================] - 0s 105us/step - loss: 2.0631 - accuracy: 0.5163\nEpoch 10/50\n800/800 [==============================] - 0s 99us/step - loss: 1.9631 - accuracy: 0.5638\nEpoch 11/50\n800/800 [==============================] - 0s 68us/step - loss: 1.9358 - accuracy: 0.5738\nEpoch 12/50\n800/800 [==============================] - 0s 113us/step - loss: 1.8643 - accuracy: 0.6225\nEpoch 13/50\n800/800 [==============================] - 0s 74us/step - loss: 1.8284 - accuracy: 0.6100\nEpoch 14/50\n800/800 [==============================] - 0s 67us/step - loss: 1.8014 - accuracy: 0.6075\nEpoch 15/50\n800/800 [==============================] - 0s 56us/step - loss: 1.7631 - accuracy: 0.6438\nEpoch 16/50\n800/800 [==============================] - 0s 67us/step - loss: 1.7459 - accuracy: 0.6413\nEpoch 17/50\n800/800 [==============================] - 0s 72us/step - loss: 1.7111 - accuracy: 0.6363\nEpoch 18/50\n800/800 [==============================] - 0s 63us/step - loss: 1.6549 - accuracy: 0.6450\nEpoch 19/50\n800/800 [==============================] - 0s 62us/step - loss: 1.6379 - accuracy: 0.6650\nEpoch 20/50\n800/800 [==============================] - 0s 63us/step - loss: 1.5984 - accuracy: 0.6650\nEpoch 21/50\n800/800 [==============================] - 0s 65us/step - loss: 1.5656 - accuracy: 0.6862\nEpoch 22/50\n800/800 [==============================] - 0s 75us/step - loss: 1.5281 - accuracy: 0.6888\nEpoch 23/50\n800/800 [==============================] - 0s 94us/step - loss: 1.4894 - accuracy: 0.7100\nEpoch 24/50\n800/800 [==============================] - 0s 80us/step - loss: 1.4673 - accuracy: 0.7025\nEpoch 25/50\n800/800 [==============================] - 0s 60us/step - loss: 1.4567 - accuracy: 0.6950\nEpoch 26/50\n800/800 [==============================] - 0s 70us/step - loss: 1.4575 - accuracy: 0.6988\nEpoch 27/50\n800/800 [==============================] - 0s 72us/step - loss: 1.3963 - accuracy: 0.7337\nEpoch 28/50\n800/800 [==============================] - 0s 82us/step - loss: 1.3963 - accuracy: 0.7450\nEpoch 29/50\n800/800 [==============================] - 0s 71us/step - loss: 1.3192 - accuracy: 0.7700\nEpoch 30/50\n800/800 [==============================] - 0s 91us/step - loss: 1.3368 - accuracy: 0.7538\nEpoch 31/50\n800/800 [==============================] - 0s 63us/step - loss: 1.3164 - accuracy: 0.7425\nEpoch 32/50\n800/800 [==============================] - 0s 109us/step - loss: 1.2920 - accuracy: 0.7525\nEpoch 33/50\n800/800 [==============================] - 0s 72us/step - loss: 1.2960 - accuracy: 0.7487\nEpoch 34/50\n800/800 [==============================] - 0s 80us/step - loss: 1.2833 - accuracy: 0.7375\nEpoch 35/50\n800/800 [==============================] - 0s 100us/step - loss: 1.2417 - accuracy: 0.7937\nEpoch 36/50\n800/800 [==============================] - 0s 72us/step - loss: 1.2239 - accuracy: 0.7887\nEpoch 37/50\n800/800 [==============================] - 0s 92us/step - loss: 1.2275 - accuracy: 0.7725\nEpoch 38/50\n800/800 [==============================] - 0s 51us/step - loss: 1.2022 - accuracy: 0.7812\nEpoch 39/50\n800/800 [==============================] - 0s 71us/step - loss: 1.1762 - accuracy: 0.7812\nEpoch 40/50\n800/800 [==============================] - 0s 71us/step - loss: 1.2081 - accuracy: 0.7663\nEpoch 41/50\n800/800 [==============================] - 0s 121us/step - loss: 1.1670 - accuracy: 0.7837\nEpoch 42/50\n800/800 [==============================] - 0s 90us/step - loss: 1.1277 - accuracy: 0.8175\nEpoch 43/50\n800/800 [==============================] - 0s 63us/step - loss: 1.1252 - accuracy: 0.8112\nEpoch 44/50\n800/800 [==============================] - 0s 49us/step - loss: 1.1229 - accuracy: 0.8025\nEpoch 45/50\n800/800 [==============================] - 0s 91us/step - loss: 1.1048 - accuracy: 0.8112\nEpoch 46/50\n800/800 [==============================] - 0s 63us/step - loss: 1.0944 - accuracy: 0.8163\nEpoch 47/50\n800/800 [==============================] - 0s 57us/step - loss: 1.0505 - accuracy: 0.8263\nEpoch 48/50\n800/800 [==============================] - 0s 65us/step - loss: 1.0618 - accuracy: 0.8325\nEpoch 49/50\n800/800 [==============================] - 0s 82us/step - loss: 1.0576 - accuracy: 0.8275\nEpoch 50/50\n800/800 [==============================] - 0s 79us/step - loss: 1.0459 - accuracy: 0.8363\n"
    },
    {
     "output_type": "execute_result",
     "data": {
      "text/plain": "<keras.callbacks.callbacks.History at 0x7f263467eb10>"
     },
     "metadata": {},
     "execution_count": 35
    }
   ],
   "source": [
    "model.fit(X_train, y_train, epochs=50, batch_size=128)"
   ]
  },
  {
   "cell_type": "markdown",
   "metadata": {},
   "source": [
    "使用`evaluate`方法进行评估。"
   ]
  },
  {
   "cell_type": "code",
   "execution_count": 36,
   "metadata": {},
   "outputs": [
    {
     "output_type": "stream",
     "name": "stdout",
     "text": "200/200 [==============================] - 0s 325us/step\ntest_acc:  0.7200000286102295\n"
    }
   ],
   "source": [
    "test_loss, test_acc = model.evaluate(X_test,y_test)\n",
    "print('test_acc: ',test_acc)"
   ]
  },
  {
   "cell_type": "code",
   "execution_count": null,
   "metadata": {},
   "outputs": [],
   "source": []
  }
 ],
 "metadata": {
  "language_info": {
   "codemirror_mode": {
    "name": "ipython",
    "version": 3
   },
   "file_extension": ".py",
   "mimetype": "text/x-python",
   "name": "python",
   "nbconvert_exporter": "python",
   "pygments_lexer": "ipython3",
   "version": "3.7.7-final"
  },
  "orig_nbformat": 2,
  "kernelspec": {
   "name": "python3",
   "display_name": "Python 3"
  }
 },
 "nbformat": 4,
 "nbformat_minor": 2
}